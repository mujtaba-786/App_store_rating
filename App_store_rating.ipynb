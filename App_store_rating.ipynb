{
  "nbformat": 4,
  "nbformat_minor": 0,
  "metadata": {
    "colab": {
      "name": "App_store_rating.ipynb",
      "provenance": [],
      "collapsed_sections": []
    },
    "kernelspec": {
      "name": "python3",
      "display_name": "Python 3"
    }
  },
  "cells": [
    {
      "cell_type": "markdown",
      "metadata": {
        "id": "S5FRbiu4GFG5",
        "colab_type": "text"
      },
      "source": [
        "**********\n",
        "**DATA  PREPARATION  AND        ANALYSIS OF DATASETS OF APP_STORE_GAMES**\n",
        "******"
      ]
    },
    {
      "cell_type": "code",
      "metadata": {
        "id": "hlssR-V_K3zF",
        "colab_type": "code",
        "outputId": "ec3a5dde-c76f-49cb-89d3-dfb4808e9c37",
        "colab": {
          "resources": {
            "http://localhost:8080/nbextensions/google.colab/files.js": {
              "data": "Ly8gQ29weXJpZ2h0IDIwMTcgR29vZ2xlIExMQwovLwovLyBMaWNlbnNlZCB1bmRlciB0aGUgQXBhY2hlIExpY2Vuc2UsIFZlcnNpb24gMi4wICh0aGUgIkxpY2Vuc2UiKTsKLy8geW91IG1heSBub3QgdXNlIHRoaXMgZmlsZSBleGNlcHQgaW4gY29tcGxpYW5jZSB3aXRoIHRoZSBMaWNlbnNlLgovLyBZb3UgbWF5IG9idGFpbiBhIGNvcHkgb2YgdGhlIExpY2Vuc2UgYXQKLy8KLy8gICAgICBodHRwOi8vd3d3LmFwYWNoZS5vcmcvbGljZW5zZXMvTElDRU5TRS0yLjAKLy8KLy8gVW5sZXNzIHJlcXVpcmVkIGJ5IGFwcGxpY2FibGUgbGF3IG9yIGFncmVlZCB0byBpbiB3cml0aW5nLCBzb2Z0d2FyZQovLyBkaXN0cmlidXRlZCB1bmRlciB0aGUgTGljZW5zZSBpcyBkaXN0cmlidXRlZCBvbiBhbiAiQVMgSVMiIEJBU0lTLAovLyBXSVRIT1VUIFdBUlJBTlRJRVMgT1IgQ09ORElUSU9OUyBPRiBBTlkgS0lORCwgZWl0aGVyIGV4cHJlc3Mgb3IgaW1wbGllZC4KLy8gU2VlIHRoZSBMaWNlbnNlIGZvciB0aGUgc3BlY2lmaWMgbGFuZ3VhZ2UgZ292ZXJuaW5nIHBlcm1pc3Npb25zIGFuZAovLyBsaW1pdGF0aW9ucyB1bmRlciB0aGUgTGljZW5zZS4KCi8qKgogKiBAZmlsZW92ZXJ2aWV3IEhlbHBlcnMgZm9yIGdvb2dsZS5jb2xhYiBQeXRob24gbW9kdWxlLgogKi8KKGZ1bmN0aW9uKHNjb3BlKSB7CmZ1bmN0aW9uIHNwYW4odGV4dCwgc3R5bGVBdHRyaWJ1dGVzID0ge30pIHsKICBjb25zdCBlbGVtZW50ID0gZG9jdW1lbnQuY3JlYXRlRWxlbWVudCgnc3BhbicpOwogIGVsZW1lbnQudGV4dENvbnRlbnQgPSB0ZXh0OwogIGZvciAoY29uc3Qga2V5IG9mIE9iamVjdC5rZXlzKHN0eWxlQXR0cmlidXRlcykpIHsKICAgIGVsZW1lbnQuc3R5bGVba2V5XSA9IHN0eWxlQXR0cmlidXRlc1trZXldOwogIH0KICByZXR1cm4gZWxlbWVudDsKfQoKLy8gTWF4IG51bWJlciBvZiBieXRlcyB3aGljaCB3aWxsIGJlIHVwbG9hZGVkIGF0IGEgdGltZS4KY29uc3QgTUFYX1BBWUxPQURfU0laRSA9IDEwMCAqIDEwMjQ7Ci8vIE1heCBhbW91bnQgb2YgdGltZSB0byBibG9jayB3YWl0aW5nIGZvciB0aGUgdXNlci4KY29uc3QgRklMRV9DSEFOR0VfVElNRU9VVF9NUyA9IDMwICogMTAwMDsKCmZ1bmN0aW9uIF91cGxvYWRGaWxlcyhpbnB1dElkLCBvdXRwdXRJZCkgewogIGNvbnN0IHN0ZXBzID0gdXBsb2FkRmlsZXNTdGVwKGlucHV0SWQsIG91dHB1dElkKTsKICBjb25zdCBvdXRwdXRFbGVtZW50ID0gZG9jdW1lbnQuZ2V0RWxlbWVudEJ5SWQob3V0cHV0SWQpOwogIC8vIENhY2hlIHN0ZXBzIG9uIHRoZSBvdXRwdXRFbGVtZW50IHRvIG1ha2UgaXQgYXZhaWxhYmxlIGZvciB0aGUgbmV4dCBjYWxsCiAgLy8gdG8gdXBsb2FkRmlsZXNDb250aW51ZSBmcm9tIFB5dGhvbi4KICBvdXRwdXRFbGVtZW50LnN0ZXBzID0gc3RlcHM7CgogIHJldHVybiBfdXBsb2FkRmlsZXNDb250aW51ZShvdXRwdXRJZCk7Cn0KCi8vIFRoaXMgaXMgcm91Z2hseSBhbiBhc3luYyBnZW5lcmF0b3IgKG5vdCBzdXBwb3J0ZWQgaW4gdGhlIGJyb3dzZXIgeWV0KSwKLy8gd2hlcmUgdGhlcmUgYXJlIG11bHRpcGxlIGFzeW5jaHJvbm91cyBzdGVwcyBhbmQgdGhlIFB5dGhvbiBzaWRlIGlzIGdvaW5nCi8vIHRvIHBvbGwgZm9yIGNvbXBsZXRpb24gb2YgZWFjaCBzdGVwLgovLyBUaGlzIHVzZXMgYSBQcm9taXNlIHRvIGJsb2NrIHRoZSBweXRob24gc2lkZSBvbiBjb21wbGV0aW9uIG9mIGVhY2ggc3RlcCwKLy8gdGhlbiBwYXNzZXMgdGhlIHJlc3VsdCBvZiB0aGUgcHJldmlvdXMgc3RlcCBhcyB0aGUgaW5wdXQgdG8gdGhlIG5leHQgc3RlcC4KZnVuY3Rpb24gX3VwbG9hZEZpbGVzQ29udGludWUob3V0cHV0SWQpIHsKICBjb25zdCBvdXRwdXRFbGVtZW50ID0gZG9jdW1lbnQuZ2V0RWxlbWVudEJ5SWQob3V0cHV0SWQpOwogIGNvbnN0IHN0ZXBzID0gb3V0cHV0RWxlbWVudC5zdGVwczsKCiAgY29uc3QgbmV4dCA9IHN0ZXBzLm5leHQob3V0cHV0RWxlbWVudC5sYXN0UHJvbWlzZVZhbHVlKTsKICByZXR1cm4gUHJvbWlzZS5yZXNvbHZlKG5leHQudmFsdWUucHJvbWlzZSkudGhlbigodmFsdWUpID0+IHsKICAgIC8vIENhY2hlIHRoZSBsYXN0IHByb21pc2UgdmFsdWUgdG8gbWFrZSBpdCBhdmFpbGFibGUgdG8gdGhlIG5leHQKICAgIC8vIHN0ZXAgb2YgdGhlIGdlbmVyYXRvci4KICAgIG91dHB1dEVsZW1lbnQubGFzdFByb21pc2VWYWx1ZSA9IHZhbHVlOwogICAgcmV0dXJuIG5leHQudmFsdWUucmVzcG9uc2U7CiAgfSk7Cn0KCi8qKgogKiBHZW5lcmF0b3IgZnVuY3Rpb24gd2hpY2ggaXMgY2FsbGVkIGJldHdlZW4gZWFjaCBhc3luYyBzdGVwIG9mIHRoZSB1cGxvYWQKICogcHJvY2Vzcy4KICogQHBhcmFtIHtzdHJpbmd9IGlucHV0SWQgRWxlbWVudCBJRCBvZiB0aGUgaW5wdXQgZmlsZSBwaWNrZXIgZWxlbWVudC4KICogQHBhcmFtIHtzdHJpbmd9IG91dHB1dElkIEVsZW1lbnQgSUQgb2YgdGhlIG91dHB1dCBkaXNwbGF5LgogKiBAcmV0dXJuIHshSXRlcmFibGU8IU9iamVjdD59IEl0ZXJhYmxlIG9mIG5leHQgc3RlcHMuCiAqLwpmdW5jdGlvbiogdXBsb2FkRmlsZXNTdGVwKGlucHV0SWQsIG91dHB1dElkKSB7CiAgY29uc3QgaW5wdXRFbGVtZW50ID0gZG9jdW1lbnQuZ2V0RWxlbWVudEJ5SWQoaW5wdXRJZCk7CiAgaW5wdXRFbGVtZW50LmRpc2FibGVkID0gZmFsc2U7CgogIGNvbnN0IG91dHB1dEVsZW1lbnQgPSBkb2N1bWVudC5nZXRFbGVtZW50QnlJZChvdXRwdXRJZCk7CiAgb3V0cHV0RWxlbWVudC5pbm5lckhUTUwgPSAnJzsKCiAgY29uc3QgcGlja2VkUHJvbWlzZSA9IG5ldyBQcm9taXNlKChyZXNvbHZlKSA9PiB7CiAgICBpbnB1dEVsZW1lbnQuYWRkRXZlbnRMaXN0ZW5lcignY2hhbmdlJywgKGUpID0+IHsKICAgICAgcmVzb2x2ZShlLnRhcmdldC5maWxlcyk7CiAgICB9KTsKICB9KTsKCiAgY29uc3QgY2FuY2VsID0gZG9jdW1lbnQuY3JlYXRlRWxlbWVudCgnYnV0dG9uJyk7CiAgaW5wdXRFbGVtZW50LnBhcmVudEVsZW1lbnQuYXBwZW5kQ2hpbGQoY2FuY2VsKTsKICBjYW5jZWwudGV4dENvbnRlbnQgPSAnQ2FuY2VsIHVwbG9hZCc7CiAgY29uc3QgY2FuY2VsUHJvbWlzZSA9IG5ldyBQcm9taXNlKChyZXNvbHZlKSA9PiB7CiAgICBjYW5jZWwub25jbGljayA9ICgpID0+IHsKICAgICAgcmVzb2x2ZShudWxsKTsKICAgIH07CiAgfSk7CgogIC8vIENhbmNlbCB1cGxvYWQgaWYgdXNlciBoYXNuJ3QgcGlja2VkIGFueXRoaW5nIGluIHRpbWVvdXQuCiAgY29uc3QgdGltZW91dFByb21pc2UgPSBuZXcgUHJvbWlzZSgocmVzb2x2ZSkgPT4gewogICAgc2V0VGltZW91dCgoKSA9PiB7CiAgICAgIHJlc29sdmUobnVsbCk7CiAgICB9LCBGSUxFX0NIQU5HRV9USU1FT1VUX01TKTsKICB9KTsKCiAgLy8gV2FpdCBmb3IgdGhlIHVzZXIgdG8gcGljayB0aGUgZmlsZXMuCiAgY29uc3QgZmlsZXMgPSB5aWVsZCB7CiAgICBwcm9taXNlOiBQcm9taXNlLnJhY2UoW3BpY2tlZFByb21pc2UsIHRpbWVvdXRQcm9taXNlLCBjYW5jZWxQcm9taXNlXSksCiAgICByZXNwb25zZTogewogICAgICBhY3Rpb246ICdzdGFydGluZycsCiAgICB9CiAgfTsKCiAgaWYgKCFmaWxlcykgewogICAgcmV0dXJuIHsKICAgICAgcmVzcG9uc2U6IHsKICAgICAgICBhY3Rpb246ICdjb21wbGV0ZScsCiAgICAgIH0KICAgIH07CiAgfQoKICBjYW5jZWwucmVtb3ZlKCk7CgogIC8vIERpc2FibGUgdGhlIGlucHV0IGVsZW1lbnQgc2luY2UgZnVydGhlciBwaWNrcyBhcmUgbm90IGFsbG93ZWQuCiAgaW5wdXRFbGVtZW50LmRpc2FibGVkID0gdHJ1ZTsKCiAgZm9yIChjb25zdCBmaWxlIG9mIGZpbGVzKSB7CiAgICBjb25zdCBsaSA9IGRvY3VtZW50LmNyZWF0ZUVsZW1lbnQoJ2xpJyk7CiAgICBsaS5hcHBlbmQoc3BhbihmaWxlLm5hbWUsIHtmb250V2VpZ2h0OiAnYm9sZCd9KSk7CiAgICBsaS5hcHBlbmQoc3BhbigKICAgICAgICBgKCR7ZmlsZS50eXBlIHx8ICduL2EnfSkgLSAke2ZpbGUuc2l6ZX0gYnl0ZXMsIGAgKwogICAgICAgIGBsYXN0IG1vZGlmaWVkOiAkewogICAgICAgICAgICBmaWxlLmxhc3RNb2RpZmllZERhdGUgPyBmaWxlLmxhc3RNb2RpZmllZERhdGUudG9Mb2NhbGVEYXRlU3RyaW5nKCkgOgogICAgICAgICAgICAgICAgICAgICAgICAgICAgICAgICAgICAnbi9hJ30gLSBgKSk7CiAgICBjb25zdCBwZXJjZW50ID0gc3BhbignMCUgZG9uZScpOwogICAgbGkuYXBwZW5kQ2hpbGQocGVyY2VudCk7CgogICAgb3V0cHV0RWxlbWVudC5hcHBlbmRDaGlsZChsaSk7CgogICAgY29uc3QgZmlsZURhdGFQcm9taXNlID0gbmV3IFByb21pc2UoKHJlc29sdmUpID0+IHsKICAgICAgY29uc3QgcmVhZGVyID0gbmV3IEZpbGVSZWFkZXIoKTsKICAgICAgcmVhZGVyLm9ubG9hZCA9IChlKSA9PiB7CiAgICAgICAgcmVzb2x2ZShlLnRhcmdldC5yZXN1bHQpOwogICAgICB9OwogICAgICByZWFkZXIucmVhZEFzQXJyYXlCdWZmZXIoZmlsZSk7CiAgICB9KTsKICAgIC8vIFdhaXQgZm9yIHRoZSBkYXRhIHRvIGJlIHJlYWR5LgogICAgbGV0IGZpbGVEYXRhID0geWllbGQgewogICAgICBwcm9taXNlOiBmaWxlRGF0YVByb21pc2UsCiAgICAgIHJlc3BvbnNlOiB7CiAgICAgICAgYWN0aW9uOiAnY29udGludWUnLAogICAgICB9CiAgICB9OwoKICAgIC8vIFVzZSBhIGNodW5rZWQgc2VuZGluZyB0byBhdm9pZCBtZXNzYWdlIHNpemUgbGltaXRzLiBTZWUgYi82MjExNTY2MC4KICAgIGxldCBwb3NpdGlvbiA9IDA7CiAgICB3aGlsZSAocG9zaXRpb24gPCBmaWxlRGF0YS5ieXRlTGVuZ3RoKSB7CiAgICAgIGNvbnN0IGxlbmd0aCA9IE1hdGgubWluKGZpbGVEYXRhLmJ5dGVMZW5ndGggLSBwb3NpdGlvbiwgTUFYX1BBWUxPQURfU0laRSk7CiAgICAgIGNvbnN0IGNodW5rID0gbmV3IFVpbnQ4QXJyYXkoZmlsZURhdGEsIHBvc2l0aW9uLCBsZW5ndGgpOwogICAgICBwb3NpdGlvbiArPSBsZW5ndGg7CgogICAgICBjb25zdCBiYXNlNjQgPSBidG9hKFN0cmluZy5mcm9tQ2hhckNvZGUuYXBwbHkobnVsbCwgY2h1bmspKTsKICAgICAgeWllbGQgewogICAgICAgIHJlc3BvbnNlOiB7CiAgICAgICAgICBhY3Rpb246ICdhcHBlbmQnLAogICAgICAgICAgZmlsZTogZmlsZS5uYW1lLAogICAgICAgICAgZGF0YTogYmFzZTY0LAogICAgICAgIH0sCiAgICAgIH07CiAgICAgIHBlcmNlbnQudGV4dENvbnRlbnQgPQogICAgICAgICAgYCR7TWF0aC5yb3VuZCgocG9zaXRpb24gLyBmaWxlRGF0YS5ieXRlTGVuZ3RoKSAqIDEwMCl9JSBkb25lYDsKICAgIH0KICB9CgogIC8vIEFsbCBkb25lLgogIHlpZWxkIHsKICAgIHJlc3BvbnNlOiB7CiAgICAgIGFjdGlvbjogJ2NvbXBsZXRlJywKICAgIH0KICB9Owp9CgpzY29wZS5nb29nbGUgPSBzY29wZS5nb29nbGUgfHwge307CnNjb3BlLmdvb2dsZS5jb2xhYiA9IHNjb3BlLmdvb2dsZS5jb2xhYiB8fCB7fTsKc2NvcGUuZ29vZ2xlLmNvbGFiLl9maWxlcyA9IHsKICBfdXBsb2FkRmlsZXMsCiAgX3VwbG9hZEZpbGVzQ29udGludWUsCn07Cn0pKHNlbGYpOwo=",
              "ok": true,
              "headers": [
                [
                  "content-type",
                  "application/javascript"
                ]
              ],
              "status": 200,
              "status_text": "OK"
            }
          },
          "base_uri": "https://localhost:8080/",
          "height": 76
        }
      },
      "source": [
        "## IMPORT FILES IN ORDER TO UPLOAD DESIRED FILE FOR ANALYSIS\n",
        "\n",
        "from google.colab import files\n",
        "up=files.upload()"
      ],
      "execution_count": 60,
      "outputs": [
        {
          "output_type": "display_data",
          "data": {
            "text/html": [
              "\n",
              "     <input type=\"file\" id=\"files-026d5bb6-2c42-41a9-836c-fd40dc8a59a6\" name=\"files[]\" multiple disabled />\n",
              "     <output id=\"result-026d5bb6-2c42-41a9-836c-fd40dc8a59a6\">\n",
              "      Upload widget is only available when the cell has been executed in the\n",
              "      current browser session. Please rerun this cell to enable.\n",
              "      </output>\n",
              "      <script src=\"/nbextensions/google.colab/files.js\"></script> "
            ],
            "text/plain": [
              "<IPython.core.display.HTML object>"
            ]
          },
          "metadata": {
            "tags": []
          }
        },
        {
          "output_type": "stream",
          "text": [
            "Saving Copy of appstore_games(710).xlsx to Copy of appstore_games(710) (1).xlsx\n"
          ],
          "name": "stdout"
        }
      ]
    },
    {
      "cell_type": "code",
      "metadata": {
        "id": "TLDnYcC-LB0k",
        "colab_type": "code",
        "colab": {}
      },
      "source": [
        "## IMPORTING ALL MODULES REQUIRED IN THE PROJECT\n",
        "\n",
        "import pandas as pd\n",
        "import matplotlib.pyplot as plt\n",
        "import numpy as np\n",
        "import seaborn as sns\n",
        "import io\n",
        "\n"
      ],
      "execution_count": 0,
      "outputs": []
    },
    {
      "cell_type": "code",
      "metadata": {
        "id": "vcmBH6-WDFJG",
        "colab_type": "code",
        "colab": {}
      },
      "source": [
        "## READING THE DESIRED EXCEL FILE\n",
        "## AND STORING IT IN df2 VARIABLE\n",
        "\n",
        "df2=pd.read_excel(io.BytesIO(up['Copy of appstore_games(710).xlsx']))"
      ],
      "execution_count": 0,
      "outputs": []
    },
    {
      "cell_type": "code",
      "metadata": {
        "id": "llvh8GN4MIXa",
        "colab_type": "code",
        "outputId": "e8bb3970-160b-4a56-aa6c-5c83f387ddd8",
        "colab": {
          "base_uri": "https://localhost:8080/",
          "height": 591
        }
      },
      "source": [
        "## GETTING THE FIRST FIVE COLUMNS OF df2\n",
        "\n",
        "df2.head()"
      ],
      "execution_count": 0,
      "outputs": [
        {
          "output_type": "execute_result",
          "data": {
            "text/html": [
              "<div>\n",
              "<style scoped>\n",
              "    .dataframe tbody tr th:only-of-type {\n",
              "        vertical-align: middle;\n",
              "    }\n",
              "\n",
              "    .dataframe tbody tr th {\n",
              "        vertical-align: top;\n",
              "    }\n",
              "\n",
              "    .dataframe thead th {\n",
              "        text-align: right;\n",
              "    }\n",
              "</style>\n",
              "<table border=\"1\" class=\"dataframe\">\n",
              "  <thead>\n",
              "    <tr style=\"text-align: right;\">\n",
              "      <th></th>\n",
              "      <th>URL</th>\n",
              "      <th>ID</th>\n",
              "      <th>Name</th>\n",
              "      <th>Subtitle</th>\n",
              "      <th>Icon URL</th>\n",
              "      <th>User Rating Count</th>\n",
              "      <th>Price</th>\n",
              "      <th>In-app Purchases</th>\n",
              "      <th>Description</th>\n",
              "      <th>Developer</th>\n",
              "      <th>Age Rating</th>\n",
              "      <th>Languages</th>\n",
              "      <th>Size</th>\n",
              "      <th>Primary Genre</th>\n",
              "      <th>Genres</th>\n",
              "      <th>Original Release Date</th>\n",
              "      <th>Current Version Release Date</th>\n",
              "      <th>Average User Rating</th>\n",
              "    </tr>\n",
              "  </thead>\n",
              "  <tbody>\n",
              "    <tr>\n",
              "      <th>0</th>\n",
              "      <td>https://apps.apple.com/us/app/sudoku/id284921427</td>\n",
              "      <td>284921427</td>\n",
              "      <td>Sudoku</td>\n",
              "      <td>NaN</td>\n",
              "      <td>https://is2-ssl.mzstatic.com/image/thumb/Purpl...</td>\n",
              "      <td>3553.0</td>\n",
              "      <td>2.99</td>\n",
              "      <td>NaN</td>\n",
              "      <td>Join over 21,000,000 of our fans and download ...</td>\n",
              "      <td>Mighty Mighty Good Games</td>\n",
              "      <td>4+</td>\n",
              "      <td>DA, NL, EN, FI, FR, DE, IT, JA, KO, NB, PL, PT...</td>\n",
              "      <td>15853568.0</td>\n",
              "      <td>Games</td>\n",
              "      <td>Games, Strategy, Puzzle</td>\n",
              "      <td>2008-07-11</td>\n",
              "      <td>2017-05-30</td>\n",
              "      <td>4.0</td>\n",
              "    </tr>\n",
              "    <tr>\n",
              "      <th>1</th>\n",
              "      <td>https://apps.apple.com/us/app/reversi/id284926400</td>\n",
              "      <td>284926400</td>\n",
              "      <td>Reversi</td>\n",
              "      <td>NaN</td>\n",
              "      <td>https://is4-ssl.mzstatic.com/image/thumb/Purpl...</td>\n",
              "      <td>284.0</td>\n",
              "      <td>1.99</td>\n",
              "      <td>NaN</td>\n",
              "      <td>The classic game of Reversi, also known as Oth...</td>\n",
              "      <td>Kiss The Machine</td>\n",
              "      <td>4+</td>\n",
              "      <td>EN</td>\n",
              "      <td>12328960.0</td>\n",
              "      <td>Games</td>\n",
              "      <td>Games, Strategy, Board</td>\n",
              "      <td>2008-07-11</td>\n",
              "      <td>2018-05-17</td>\n",
              "      <td>3.5</td>\n",
              "    </tr>\n",
              "    <tr>\n",
              "      <th>2</th>\n",
              "      <td>https://apps.apple.com/us/app/morocco/id284946595</td>\n",
              "      <td>284946595</td>\n",
              "      <td>Morocco</td>\n",
              "      <td>NaN</td>\n",
              "      <td>https://is5-ssl.mzstatic.com/image/thumb/Purpl...</td>\n",
              "      <td>8376.0</td>\n",
              "      <td>0.00</td>\n",
              "      <td>NaN</td>\n",
              "      <td>Play the classic strategy game Othello (also k...</td>\n",
              "      <td>Bayou Games</td>\n",
              "      <td>4+</td>\n",
              "      <td>EN</td>\n",
              "      <td>674816.0</td>\n",
              "      <td>Games</td>\n",
              "      <td>Games, Board, Strategy</td>\n",
              "      <td>2008-07-11</td>\n",
              "      <td>2017-09-05</td>\n",
              "      <td>3.0</td>\n",
              "    </tr>\n",
              "    <tr>\n",
              "      <th>3</th>\n",
              "      <td>https://apps.apple.com/us/app/sudoku-free/id28...</td>\n",
              "      <td>285755462</td>\n",
              "      <td>Sudoku (Free)</td>\n",
              "      <td>NaN</td>\n",
              "      <td>https://is3-ssl.mzstatic.com/image/thumb/Purpl...</td>\n",
              "      <td>190394.0</td>\n",
              "      <td>0.00</td>\n",
              "      <td>NaN</td>\n",
              "      <td>Top 100 free app for over a year.\\nRated \"Best...</td>\n",
              "      <td>Mighty Mighty Good Games</td>\n",
              "      <td>4+</td>\n",
              "      <td>DA, NL, EN, FI, FR, DE, IT, JA, KO, NB, PL, PT...</td>\n",
              "      <td>21552128.0</td>\n",
              "      <td>Games</td>\n",
              "      <td>Games, Strategy, Puzzle</td>\n",
              "      <td>2008-07-23</td>\n",
              "      <td>2017-05-30</td>\n",
              "      <td>3.5</td>\n",
              "    </tr>\n",
              "    <tr>\n",
              "      <th>4</th>\n",
              "      <td>https://apps.apple.com/us/app/senet-deluxe/id2...</td>\n",
              "      <td>285831220</td>\n",
              "      <td>Senet Deluxe</td>\n",
              "      <td>NaN</td>\n",
              "      <td>https://is1-ssl.mzstatic.com/image/thumb/Purpl...</td>\n",
              "      <td>28.0</td>\n",
              "      <td>2.99</td>\n",
              "      <td>NaN</td>\n",
              "      <td>\"Senet Deluxe - The Ancient Game of Life and A...</td>\n",
              "      <td>RoGame Software</td>\n",
              "      <td>4+</td>\n",
              "      <td>DA, NL, EN, FR, DE, EL, IT, JA, KO, NO, PT, RU...</td>\n",
              "      <td>34689024.0</td>\n",
              "      <td>Games</td>\n",
              "      <td>Games, Strategy, Board, Education</td>\n",
              "      <td>2008-07-18</td>\n",
              "      <td>2018-07-22</td>\n",
              "      <td>3.5</td>\n",
              "    </tr>\n",
              "  </tbody>\n",
              "</table>\n",
              "</div>"
            ],
            "text/plain": [
              "                                                 URL  ...  Average User Rating\n",
              "0   https://apps.apple.com/us/app/sudoku/id284921427  ...                  4.0\n",
              "1  https://apps.apple.com/us/app/reversi/id284926400  ...                  3.5\n",
              "2  https://apps.apple.com/us/app/morocco/id284946595  ...                  3.0\n",
              "3  https://apps.apple.com/us/app/sudoku-free/id28...  ...                  3.5\n",
              "4  https://apps.apple.com/us/app/senet-deluxe/id2...  ...                  3.5\n",
              "\n",
              "[5 rows x 18 columns]"
            ]
          },
          "metadata": {
            "tags": []
          },
          "execution_count": 3
        }
      ]
    },
    {
      "cell_type": "code",
      "metadata": {
        "id": "jEzyqU6AMOG7",
        "colab_type": "code",
        "outputId": "5e88ac09-bffd-4146-db7e-8769a2ea233a",
        "colab": {
          "base_uri": "https://localhost:8080/",
          "height": 556
        }
      },
      "source": [
        "## GETTING LAST FIVE COLUMNS OF df2\n",
        "\n",
        "df2.tail()"
      ],
      "execution_count": 0,
      "outputs": [
        {
          "output_type": "execute_result",
          "data": {
            "text/html": [
              "<div>\n",
              "<style scoped>\n",
              "    .dataframe tbody tr th:only-of-type {\n",
              "        vertical-align: middle;\n",
              "    }\n",
              "\n",
              "    .dataframe tbody tr th {\n",
              "        vertical-align: top;\n",
              "    }\n",
              "\n",
              "    .dataframe thead th {\n",
              "        text-align: right;\n",
              "    }\n",
              "</style>\n",
              "<table border=\"1\" class=\"dataframe\">\n",
              "  <thead>\n",
              "    <tr style=\"text-align: right;\">\n",
              "      <th></th>\n",
              "      <th>URL</th>\n",
              "      <th>ID</th>\n",
              "      <th>Name</th>\n",
              "      <th>Subtitle</th>\n",
              "      <th>Icon URL</th>\n",
              "      <th>User Rating Count</th>\n",
              "      <th>Price</th>\n",
              "      <th>In-app Purchases</th>\n",
              "      <th>Description</th>\n",
              "      <th>Developer</th>\n",
              "      <th>Age Rating</th>\n",
              "      <th>Languages</th>\n",
              "      <th>Size</th>\n",
              "      <th>Primary Genre</th>\n",
              "      <th>Genres</th>\n",
              "      <th>Original Release Date</th>\n",
              "      <th>Current Version Release Date</th>\n",
              "      <th>Average User Rating</th>\n",
              "    </tr>\n",
              "  </thead>\n",
              "  <tbody>\n",
              "    <tr>\n",
              "      <th>17002</th>\n",
              "      <td>https://apps.apple.com/us/app/stack-puzzle-ris...</td>\n",
              "      <td>1474626442</td>\n",
              "      <td>Stack Puzzle : Rise Tower</td>\n",
              "      <td>Blast the cubes, solve puzzle!</td>\n",
              "      <td>https://is5-ssl.mzstatic.com/image/thumb/Purpl...</td>\n",
              "      <td>NaN</td>\n",
              "      <td>0.0</td>\n",
              "      <td>NaN</td>\n",
              "      <td>The goal is very simple, move the square horiz...</td>\n",
              "      <td>Zhigang Pei</td>\n",
              "      <td>4+</td>\n",
              "      <td>EN</td>\n",
              "      <td>64795648.0</td>\n",
              "      <td>Games</td>\n",
              "      <td>Games, Entertainment, Casual, Strategy</td>\n",
              "      <td>2019-07-30</td>\n",
              "      <td>2019-07-30</td>\n",
              "      <td>NaN</td>\n",
              "    </tr>\n",
              "    <tr>\n",
              "      <th>17003</th>\n",
              "      <td>https://apps.apple.com/us/app/eachother/id1474...</td>\n",
              "      <td>1474919257</td>\n",
              "      <td>EachOther</td>\n",
              "      <td>NaN</td>\n",
              "      <td>https://is2-ssl.mzstatic.com/image/thumb/Purpl...</td>\n",
              "      <td>NaN</td>\n",
              "      <td>0.0</td>\n",
              "      <td>NaN</td>\n",
              "      <td>Collect a score while you play!!\\n\\nBy linking...</td>\n",
              "      <td>Sultan Shindi</td>\n",
              "      <td>4+</td>\n",
              "      <td>EN</td>\n",
              "      <td>110341120.0</td>\n",
              "      <td>Games</td>\n",
              "      <td>Games, Family, Strategy</td>\n",
              "      <td>2019-08-01</td>\n",
              "      <td>2019-08-01</td>\n",
              "      <td>NaN</td>\n",
              "    </tr>\n",
              "    <tr>\n",
              "      <th>17004</th>\n",
              "      <td>https://apps.apple.com/us/app/rabbit-vs-tortoi...</td>\n",
              "      <td>1474962324</td>\n",
              "      <td>Rabbit Vs Tortoise</td>\n",
              "      <td>NaN</td>\n",
              "      <td>https://is2-ssl.mzstatic.com/image/thumb/Purpl...</td>\n",
              "      <td>NaN</td>\n",
              "      <td>0.0</td>\n",
              "      <td>NaN</td>\n",
              "      <td>\"Rabbit Vs Tortoise is chess type cool simple ...</td>\n",
              "      <td>Vishal Baldha</td>\n",
              "      <td>4+</td>\n",
              "      <td>EN</td>\n",
              "      <td>23207936.0</td>\n",
              "      <td>Games</td>\n",
              "      <td>Games, Strategy</td>\n",
              "      <td>2019-08-03</td>\n",
              "      <td>2019-08-03</td>\n",
              "      <td>NaN</td>\n",
              "    </tr>\n",
              "    <tr>\n",
              "      <th>17005</th>\n",
              "      <td>https://apps.apple.com/us/app/fatall/id1474963671</td>\n",
              "      <td>1474963671</td>\n",
              "      <td>FaTaLL</td>\n",
              "      <td>Most fun game!!!</td>\n",
              "      <td>https://is1-ssl.mzstatic.com/image/thumb/Purpl...</td>\n",
              "      <td>NaN</td>\n",
              "      <td>0.0</td>\n",
              "      <td>9.99, 49.99, 3.99</td>\n",
              "      <td>Upgrade your character and use your skills to ...</td>\n",
              "      <td>Tayrem Games</td>\n",
              "      <td>4+</td>\n",
              "      <td>EN</td>\n",
              "      <td>196750336.0</td>\n",
              "      <td>Games</td>\n",
              "      <td>Games, Strategy, Action</td>\n",
              "      <td>2019-08-01</td>\n",
              "      <td>2019-08-01</td>\n",
              "      <td>NaN</td>\n",
              "    </tr>\n",
              "    <tr>\n",
              "      <th>17006</th>\n",
              "      <td>https://apps.apple.com/us/app/the-three-kingdo...</td>\n",
              "      <td>1475076711</td>\n",
              "      <td>The Three Kingdoms :Bomb</td>\n",
              "      <td>NaN</td>\n",
              "      <td>https://is1-ssl.mzstatic.com/image/thumb/Purpl...</td>\n",
              "      <td>NaN</td>\n",
              "      <td>0.0</td>\n",
              "      <td>NaN</td>\n",
              "      <td>The protagonist uses the method of placing a b...</td>\n",
              "      <td>ming bo tang</td>\n",
              "      <td>4+</td>\n",
              "      <td>EN, ZH</td>\n",
              "      <td>22952960.0</td>\n",
              "      <td>Games</td>\n",
              "      <td>Games, Strategy, Puzzle</td>\n",
              "      <td>2019-08-02</td>\n",
              "      <td>2019-08-02</td>\n",
              "      <td>NaN</td>\n",
              "    </tr>\n",
              "  </tbody>\n",
              "</table>\n",
              "</div>"
            ],
            "text/plain": [
              "                                                     URL  ...  Average User Rating\n",
              "17002  https://apps.apple.com/us/app/stack-puzzle-ris...  ...                  NaN\n",
              "17003  https://apps.apple.com/us/app/eachother/id1474...  ...                  NaN\n",
              "17004  https://apps.apple.com/us/app/rabbit-vs-tortoi...  ...                  NaN\n",
              "17005  https://apps.apple.com/us/app/fatall/id1474963671  ...                  NaN\n",
              "17006  https://apps.apple.com/us/app/the-three-kingdo...  ...                  NaN\n",
              "\n",
              "[5 rows x 18 columns]"
            ]
          },
          "metadata": {
            "tags": []
          },
          "execution_count": 4
        }
      ]
    },
    {
      "cell_type": "code",
      "metadata": {
        "id": "tvQgGEntM5VW",
        "colab_type": "code",
        "outputId": "b02d7711-1d93-4a17-ecf5-6450926653f5",
        "colab": {
          "base_uri": "https://localhost:8080/",
          "height": 36
        }
      },
      "source": [
        "## SHAPE OF df2 DATAFRAME \n",
        "## IN (ROWS ,COLUMNS ) FORMAT\n",
        "\n",
        "df2.shape\n"
      ],
      "execution_count": 0,
      "outputs": [
        {
          "output_type": "execute_result",
          "data": {
            "text/plain": [
              "(17007, 18)"
            ]
          },
          "metadata": {
            "tags": []
          },
          "execution_count": 26
        }
      ]
    },
    {
      "cell_type": "code",
      "metadata": {
        "id": "aVGKdpyVMVZc",
        "colab_type": "code",
        "outputId": "04a1ede0-3d2b-4eb3-caea-e1b8d7b6cfc1",
        "colab": {
          "base_uri": "https://localhost:8080/",
          "height": 370
        }
      },
      "source": [
        "## GETTING SUM OF ALL\n",
        "## NULL VALUES IN\n",
        "## ALL COLUMNS OF\n",
        "## df2 DATAFRAME\n",
        "\n",
        "df2.isnull().sum()"
      ],
      "execution_count": 0,
      "outputs": [
        {
          "output_type": "execute_result",
          "data": {
            "text/plain": [
              "URL                                 0\n",
              "ID                                  0\n",
              "Name                                1\n",
              "Subtitle                        11750\n",
              "Icon URL                            0\n",
              "User Rating Count                9446\n",
              "Price                              24\n",
              "In-app Purchases                 9324\n",
              "Description                        17\n",
              "Developer                           0\n",
              "Age Rating                          0\n",
              "Languages                          60\n",
              "Size                                1\n",
              "Primary Genre                       0\n",
              "Genres                              0\n",
              "Original Release Date               0\n",
              "Current Version Release Date        0\n",
              "Average User Rating              9446\n",
              "dtype: int64"
            ]
          },
          "metadata": {
            "tags": []
          },
          "execution_count": 5
        }
      ]
    },
    {
      "cell_type": "code",
      "metadata": {
        "id": "KgcEuI-rMX8a",
        "colab_type": "code",
        "colab": {}
      },
      "source": [
        "## REMOVING THE COLUMNS\n",
        "## WHICH ARE NOT ESSENTIAL\n",
        "## IN df2 FILE\n",
        "\n",
        "a=[\"Subtitle\",\"URL\",\"ID\",\"Icon URL\",\"In-app Purchases\"]\n",
        "for i in range(len(a)):\n",
        "  df2=df2.drop([a[i]],axis=1)"
      ],
      "execution_count": 0,
      "outputs": []
    },
    {
      "cell_type": "code",
      "metadata": {
        "id": "NYz7uY8gNHPl",
        "colab_type": "code",
        "outputId": "f71cbdf0-f18f-4cc1-ae45-effb08b572cc",
        "colab": {
          "base_uri": "https://localhost:8080/",
          "height": 282
        }
      },
      "source": [
        "## NEW DATAFRAME AFTER\n",
        "## REMOVING ALL ABOVE COLUMNS\n",
        "\n",
        "df2.head(3)"
      ],
      "execution_count": 0,
      "outputs": [
        {
          "output_type": "execute_result",
          "data": {
            "text/html": [
              "<div>\n",
              "<style scoped>\n",
              "    .dataframe tbody tr th:only-of-type {\n",
              "        vertical-align: middle;\n",
              "    }\n",
              "\n",
              "    .dataframe tbody tr th {\n",
              "        vertical-align: top;\n",
              "    }\n",
              "\n",
              "    .dataframe thead th {\n",
              "        text-align: right;\n",
              "    }\n",
              "</style>\n",
              "<table border=\"1\" class=\"dataframe\">\n",
              "  <thead>\n",
              "    <tr style=\"text-align: right;\">\n",
              "      <th></th>\n",
              "      <th>Name</th>\n",
              "      <th>User Rating Count</th>\n",
              "      <th>Price</th>\n",
              "      <th>In-app Purchases</th>\n",
              "      <th>Description</th>\n",
              "      <th>Developer</th>\n",
              "      <th>Age Rating</th>\n",
              "      <th>Languages</th>\n",
              "      <th>Size</th>\n",
              "      <th>Primary Genre</th>\n",
              "      <th>Genres</th>\n",
              "      <th>Original Release Date</th>\n",
              "      <th>Current Version Release Date</th>\n",
              "      <th>Average User Rating</th>\n",
              "    </tr>\n",
              "  </thead>\n",
              "  <tbody>\n",
              "    <tr>\n",
              "      <th>0</th>\n",
              "      <td>Sudoku</td>\n",
              "      <td>3553.0</td>\n",
              "      <td>2.99</td>\n",
              "      <td>NaN</td>\n",
              "      <td>Join over 21,000,000 of our fans and download ...</td>\n",
              "      <td>Mighty Mighty Good Games</td>\n",
              "      <td>4+</td>\n",
              "      <td>DA, NL, EN, FI, FR, DE, IT, JA, KO, NB, PL, PT...</td>\n",
              "      <td>15853568.0</td>\n",
              "      <td>Games</td>\n",
              "      <td>Games, Strategy, Puzzle</td>\n",
              "      <td>2008-07-11</td>\n",
              "      <td>2017-05-30</td>\n",
              "      <td>4.0</td>\n",
              "    </tr>\n",
              "    <tr>\n",
              "      <th>1</th>\n",
              "      <td>Reversi</td>\n",
              "      <td>284.0</td>\n",
              "      <td>1.99</td>\n",
              "      <td>NaN</td>\n",
              "      <td>The classic game of Reversi, also known as Oth...</td>\n",
              "      <td>Kiss The Machine</td>\n",
              "      <td>4+</td>\n",
              "      <td>EN</td>\n",
              "      <td>12328960.0</td>\n",
              "      <td>Games</td>\n",
              "      <td>Games, Strategy, Board</td>\n",
              "      <td>2008-07-11</td>\n",
              "      <td>2018-05-17</td>\n",
              "      <td>3.5</td>\n",
              "    </tr>\n",
              "    <tr>\n",
              "      <th>2</th>\n",
              "      <td>Morocco</td>\n",
              "      <td>8376.0</td>\n",
              "      <td>0.00</td>\n",
              "      <td>NaN</td>\n",
              "      <td>Play the classic strategy game Othello (also k...</td>\n",
              "      <td>Bayou Games</td>\n",
              "      <td>4+</td>\n",
              "      <td>EN</td>\n",
              "      <td>674816.0</td>\n",
              "      <td>Games</td>\n",
              "      <td>Games, Board, Strategy</td>\n",
              "      <td>2008-07-11</td>\n",
              "      <td>2017-09-05</td>\n",
              "      <td>3.0</td>\n",
              "    </tr>\n",
              "  </tbody>\n",
              "</table>\n",
              "</div>"
            ],
            "text/plain": [
              "      Name  User Rating Count  ...  Current Version Release Date Average User Rating\n",
              "0   Sudoku             3553.0  ...                    2017-05-30                 4.0\n",
              "1  Reversi              284.0  ...                    2018-05-17                 3.5\n",
              "2  Morocco             8376.0  ...                    2017-09-05                 3.0\n",
              "\n",
              "[3 rows x 14 columns]"
            ]
          },
          "metadata": {
            "tags": []
          },
          "execution_count": 112
        }
      ]
    },
    {
      "cell_type": "code",
      "metadata": {
        "id": "l2gXQXT5Ne86",
        "colab_type": "code",
        "outputId": "e51355af-1ba6-4ba1-91be-deeaf1584762",
        "colab": {
          "base_uri": "https://localhost:8080/",
          "height": 277
        }
      },
      "source": [
        "df2.isnull().sum()"
      ],
      "execution_count": 0,
      "outputs": [
        {
          "output_type": "execute_result",
          "data": {
            "text/plain": [
              "Name                               1\n",
              "User Rating Count               9446\n",
              "Price                             24\n",
              "Description                       17\n",
              "Developer                          0\n",
              "Age Rating                         0\n",
              "Languages                         60\n",
              "Size                               1\n",
              "Primary Genre                      0\n",
              "Genres                             0\n",
              "Original Release Date              0\n",
              "Current Version Release Date       0\n",
              "Average User Rating             9446\n",
              "dtype: int64"
            ]
          },
          "metadata": {
            "tags": []
          },
          "execution_count": 116
        }
      ]
    },
    {
      "cell_type": "code",
      "metadata": {
        "id": "mN0nBfJSUtyY",
        "colab_type": "code",
        "colab": {}
      },
      "source": [
        "## FILLING NULL VALUES\n",
        "## OF PARTICULAR COLUMNS\n",
        "## WITH MEDIAN OF THAT PARTICULAR\n",
        "## COLUMNS\n",
        "\n",
        "df2[\"Average User Rating\"].fillna(df2[\"Average User Rating\"].median(),inplace=True)\n",
        "df2[\"User Rating Count\"].fillna(df2[\"User Rating Count\"].median(),inplace=True)"
      ],
      "execution_count": 0,
      "outputs": []
    },
    {
      "cell_type": "code",
      "metadata": {
        "id": "jEfiOGXsVpUi",
        "colab_type": "code",
        "outputId": "59548795-4c03-4934-bd51-1151801f437c",
        "colab": {
          "base_uri": "https://localhost:8080/",
          "height": 277
        }
      },
      "source": [
        "df2.isnull().sum()"
      ],
      "execution_count": 0,
      "outputs": [
        {
          "output_type": "execute_result",
          "data": {
            "text/plain": [
              "Name                             1\n",
              "User Rating Count                0\n",
              "Price                           24\n",
              "Description                     17\n",
              "Developer                        0\n",
              "Age Rating                       0\n",
              "Languages                       60\n",
              "Size                             1\n",
              "Primary Genre                    0\n",
              "Genres                           0\n",
              "Original Release Date            0\n",
              "Current Version Release Date     0\n",
              "Average User Rating              0\n",
              "dtype: int64"
            ]
          },
          "metadata": {
            "tags": []
          },
          "execution_count": 118
        }
      ]
    },
    {
      "cell_type": "code",
      "metadata": {
        "id": "UzWp-u9GVq8u",
        "colab_type": "code",
        "colab": {}
      },
      "source": [
        "## DROPPING ALL THE NULL VALUES\n",
        "\n",
        "\n",
        "df2=df2.dropna(axis=0)"
      ],
      "execution_count": 0,
      "outputs": []
    },
    {
      "cell_type": "code",
      "metadata": {
        "id": "fyCM26F5V2Nr",
        "colab_type": "code",
        "outputId": "7938754e-42e9-4194-b4df-154f0e2ed506",
        "colab": {
          "base_uri": "https://localhost:8080/",
          "height": 277
        }
      },
      "source": [
        "df2.isnull().sum()"
      ],
      "execution_count": 0,
      "outputs": [
        {
          "output_type": "execute_result",
          "data": {
            "text/plain": [
              "Name                            0\n",
              "User Rating Count               0\n",
              "Price                           0\n",
              "Description                     0\n",
              "Developer                       0\n",
              "Age Rating                      0\n",
              "Languages                       0\n",
              "Size                            0\n",
              "Primary Genre                   0\n",
              "Genres                          0\n",
              "Original Release Date           0\n",
              "Current Version Release Date    0\n",
              "Average User Rating             0\n",
              "dtype: int64"
            ]
          },
          "metadata": {
            "tags": []
          },
          "execution_count": 126
        }
      ]
    },
    {
      "cell_type": "code",
      "metadata": {
        "id": "rOtIj-dXZO_7",
        "colab_type": "code",
        "outputId": "7de7a6d9-8eaf-48b4-ed23-02574e7b597d",
        "colab": {
          "base_uri": "https://localhost:8080/",
          "height": 397
        }
      },
      "source": [
        "## FRESH DATAFRAME\n",
        "## IS SHOWN BELOW\n",
        "\n",
        "df2.head()"
      ],
      "execution_count": 0,
      "outputs": [
        {
          "output_type": "execute_result",
          "data": {
            "text/html": [
              "<div>\n",
              "<style scoped>\n",
              "    .dataframe tbody tr th:only-of-type {\n",
              "        vertical-align: middle;\n",
              "    }\n",
              "\n",
              "    .dataframe tbody tr th {\n",
              "        vertical-align: top;\n",
              "    }\n",
              "\n",
              "    .dataframe thead th {\n",
              "        text-align: right;\n",
              "    }\n",
              "</style>\n",
              "<table border=\"1\" class=\"dataframe\">\n",
              "  <thead>\n",
              "    <tr style=\"text-align: right;\">\n",
              "      <th></th>\n",
              "      <th>Name</th>\n",
              "      <th>User Rating Count</th>\n",
              "      <th>Price</th>\n",
              "      <th>Description</th>\n",
              "      <th>Developer</th>\n",
              "      <th>Age Rating</th>\n",
              "      <th>Languages</th>\n",
              "      <th>Size</th>\n",
              "      <th>Primary Genre</th>\n",
              "      <th>Genres</th>\n",
              "      <th>Original Release Date</th>\n",
              "      <th>Current Version Release Date</th>\n",
              "      <th>Average User Rating</th>\n",
              "    </tr>\n",
              "  </thead>\n",
              "  <tbody>\n",
              "    <tr>\n",
              "      <th>0</th>\n",
              "      <td>Sudoku</td>\n",
              "      <td>3553.0</td>\n",
              "      <td>2.99</td>\n",
              "      <td>Join over 21,000,000 of our fans and download ...</td>\n",
              "      <td>Mighty Mighty Good Games</td>\n",
              "      <td>4+</td>\n",
              "      <td>DA, NL, EN, FI, FR, DE, IT, JA, KO, NB, PL, PT...</td>\n",
              "      <td>15853568.0</td>\n",
              "      <td>Games</td>\n",
              "      <td>Games, Strategy, Puzzle</td>\n",
              "      <td>2008-07-11</td>\n",
              "      <td>2017-05-30</td>\n",
              "      <td>4.0</td>\n",
              "    </tr>\n",
              "    <tr>\n",
              "      <th>1</th>\n",
              "      <td>Reversi</td>\n",
              "      <td>284.0</td>\n",
              "      <td>1.99</td>\n",
              "      <td>The classic game of Reversi, also known as Oth...</td>\n",
              "      <td>Kiss The Machine</td>\n",
              "      <td>4+</td>\n",
              "      <td>EN</td>\n",
              "      <td>12328960.0</td>\n",
              "      <td>Games</td>\n",
              "      <td>Games, Strategy, Board</td>\n",
              "      <td>2008-07-11</td>\n",
              "      <td>2018-05-17</td>\n",
              "      <td>3.5</td>\n",
              "    </tr>\n",
              "    <tr>\n",
              "      <th>2</th>\n",
              "      <td>Morocco</td>\n",
              "      <td>8376.0</td>\n",
              "      <td>0.00</td>\n",
              "      <td>Play the classic strategy game Othello (also k...</td>\n",
              "      <td>Bayou Games</td>\n",
              "      <td>4+</td>\n",
              "      <td>EN</td>\n",
              "      <td>674816.0</td>\n",
              "      <td>Games</td>\n",
              "      <td>Games, Board, Strategy</td>\n",
              "      <td>2008-07-11</td>\n",
              "      <td>2017-09-05</td>\n",
              "      <td>3.0</td>\n",
              "    </tr>\n",
              "    <tr>\n",
              "      <th>3</th>\n",
              "      <td>Sudoku (Free)</td>\n",
              "      <td>190394.0</td>\n",
              "      <td>0.00</td>\n",
              "      <td>Top 100 free app for over a year.\\nRated \"Best...</td>\n",
              "      <td>Mighty Mighty Good Games</td>\n",
              "      <td>4+</td>\n",
              "      <td>DA, NL, EN, FI, FR, DE, IT, JA, KO, NB, PL, PT...</td>\n",
              "      <td>21552128.0</td>\n",
              "      <td>Games</td>\n",
              "      <td>Games, Strategy, Puzzle</td>\n",
              "      <td>2008-07-23</td>\n",
              "      <td>2017-05-30</td>\n",
              "      <td>3.5</td>\n",
              "    </tr>\n",
              "    <tr>\n",
              "      <th>4</th>\n",
              "      <td>Senet Deluxe</td>\n",
              "      <td>28.0</td>\n",
              "      <td>2.99</td>\n",
              "      <td>\"Senet Deluxe - The Ancient Game of Life and A...</td>\n",
              "      <td>RoGame Software</td>\n",
              "      <td>4+</td>\n",
              "      <td>DA, NL, EN, FR, DE, EL, IT, JA, KO, NO, PT, RU...</td>\n",
              "      <td>34689024.0</td>\n",
              "      <td>Games</td>\n",
              "      <td>Games, Strategy, Board, Education</td>\n",
              "      <td>2008-07-18</td>\n",
              "      <td>2018-07-22</td>\n",
              "      <td>3.5</td>\n",
              "    </tr>\n",
              "  </tbody>\n",
              "</table>\n",
              "</div>"
            ],
            "text/plain": [
              "            Name  ...  Average User Rating\n",
              "0         Sudoku  ...                  4.0\n",
              "1        Reversi  ...                  3.5\n",
              "2        Morocco  ...                  3.0\n",
              "3  Sudoku (Free)  ...                  3.5\n",
              "4   Senet Deluxe  ...                  3.5\n",
              "\n",
              "[5 rows x 13 columns]"
            ]
          },
          "metadata": {
            "tags": []
          },
          "execution_count": 127
        }
      ]
    },
    {
      "cell_type": "code",
      "metadata": {
        "id": "n17PtSFbb9_w",
        "colab_type": "code",
        "outputId": "0fa06909-4aca-47eb-bb53-56b107e89679",
        "colab": {
          "base_uri": "https://localhost:8080/",
          "height": 284
        }
      },
      "source": [
        "## ANALYZING BETWEEN \n",
        "## AVERAGE USER RATING\n",
        "## AND GENRES COLUMNS\n",
        "## USING MATPLOTLIB\n",
        "\n",
        "plt.scatter(df2[\"Genres\"],df2[\"Average User Rating\"])"
      ],
      "execution_count": 0,
      "outputs": [
        {
          "output_type": "execute_result",
          "data": {
            "text/plain": [
              "<matplotlib.collections.PathCollection at 0x7f799006c160>"
            ]
          },
          "metadata": {
            "tags": []
          },
          "execution_count": 30
        },
        {
          "output_type": "display_data",
          "data": {
            "image/png": "[encoded data removed]",
            "text/plain": [
              "<Figure size 432x288 with 1 Axes>"
            ]
          },
          "metadata": {
            "tags": []
          }
        }
      ]
    },
    {
      "cell_type": "code",
      "metadata": {
        "id": "Q1-OCAMuilqv",
        "colab_type": "code",
        "outputId": "ed3d1c72-695a-41e0-d258-849ea651a2d2",
        "colab": {
          "base_uri": "https://localhost:8080/",
          "height": 110
        }
      },
      "source": [
        "## GETTING ALL UNIQUE \n",
        "## OBJECT\n",
        "\n",
        "df2[\"Primary Genre\"].unique()"
      ],
      "execution_count": 0,
      "outputs": [
        {
          "output_type": "execute_result",
          "data": {
            "text/plain": [
              "array(['Games', 'Entertainment', 'Finance', 'Sports', 'Reference',\n",
              "       'Medical', 'Education', 'Utilities', 'Book', 'Travel',\n",
              "       'Productivity', 'Lifestyle', 'Business', 'News',\n",
              "       'Social Networking', 'Health & Fitness', 'Music', 'Stickers',\n",
              "       'Food & Drink', 'Shopping', 'Navigation'], dtype=object)"
            ]
          },
          "metadata": {
            "tags": []
          },
          "execution_count": 36
        }
      ]
    },
    {
      "cell_type": "code",
      "metadata": {
        "id": "kfh1dHMDYotx",
        "colab_type": "code",
        "outputId": "583ff176-a6d7-483b-92c1-28cae92b93fe",
        "colab": {
          "base_uri": "https://localhost:8080/",
          "height": 345
        }
      },
      "source": [
        "plt.figure(figsize=(25,5))\n",
        "plt.xlabel(\"Primary Genre\")\n",
        "plt.ylabel(\"Average User Rating\")\n",
        "plt.scatter(df2[\"Primary Genre\"],df2[\"Average User Rating\"],color=\"red\")"
      ],
      "execution_count": 0,
      "outputs": [
        {
          "output_type": "execute_result",
          "data": {
            "text/plain": [
              "<matplotlib.collections.PathCollection at 0x7ff663830ac8>"
            ]
          },
          "metadata": {
            "tags": []
          },
          "execution_count": 37
        },
        {
          "output_type": "display_data",
          "data": {
            "image/png": "[encoded data removed]",
            "text/plain": [
              "<Figure size 1800x360 with 1 Axes>"
            ]
          },
          "metadata": {
            "tags": []
          }
        }
      ]
    },
    {
      "cell_type": "code",
      "metadata": {
        "id": "8iIlTIg1ZX4T",
        "colab_type": "code",
        "outputId": "006eeba1-435f-4073-ac28-af5587bc24cd",
        "colab": {
          "base_uri": "https://localhost:8080/",
          "height": 409
        }
      },
      "source": [
        "## GETTING THE TOTAL\n",
        "## COUNTS OF DIFFERENT\n",
        "## OBJECTS IN df2[\"Primary Genre\"]\n",
        "\n",
        "l=[]\n",
        "for i in df2[\"Primary Genre\"].unique():\n",
        "  count=0\n",
        "  for j in df2[\"Primary Genre\"]:\n",
        "    if i==j:\n",
        "      count+=1\n",
        "  print(i,\" \",count)\n"
      ],
      "execution_count": 59,
      "outputs": [
        {
          "output_type": "stream",
          "text": [
            "Games   16189\n",
            "Entertainment   196\n",
            "Finance   18\n",
            "Sports   59\n",
            "Reference   32\n",
            "Medical   2\n",
            "Education   221\n",
            "Utilities   77\n",
            "Book   9\n",
            "Travel   1\n",
            "Productivity   15\n",
            "Lifestyle   10\n",
            "Business   15\n",
            "News   7\n",
            "Social Networking   9\n",
            "Health & Fitness   5\n",
            "Music   3\n",
            "Stickers   29\n",
            "Food & Drink   4\n",
            "Shopping   1\n",
            "Navigation   3\n"
          ],
          "name": "stdout"
        }
      ]
    },
    {
      "cell_type": "code",
      "metadata": {
        "id": "M15S4WnnmMKR",
        "colab_type": "code",
        "outputId": "26dda8d8-b5d5-4b98-99d8-3554f0a31736",
        "colab": {
          "base_uri": "https://localhost:8080/",
          "height": 298
        }
      },
      "source": [
        "## ANALYZING THROUGH SEABORN\n",
        "\n",
        "sns.scatterplot(df2[\"Average User Rating\"],df2[\"Primary Genre\"])"
      ],
      "execution_count": 0,
      "outputs": [
        {
          "output_type": "execute_result",
          "data": {
            "text/plain": [
              "<matplotlib.axes._subplots.AxesSubplot at 0x7ff648ab7828>"
            ]
          },
          "metadata": {
            "tags": []
          },
          "execution_count": 65
        },
        {
          "output_type": "display_data",
          "data": {
            "image/png": "[encoded data removed]",
            "text/plain": [
              "<Figure size 432x288 with 1 Axes>"
            ]
          },
          "metadata": {
            "tags": []
          }
        }
      ]
    },
    {
      "cell_type": "code",
      "metadata": {
        "id": "MQtDmAu_h5W_",
        "colab_type": "code",
        "outputId": "31896dfc-2fc3-427d-ce27-a4d2ab24f1d1",
        "colab": {
          "base_uri": "https://localhost:8080/",
          "height": 1000
        }
      },
      "source": [
        "plt.pie(l,labels=df2[\"Primary Genre\"].unique(),autopct=\"%0.1f\",startangle=0,radius=4)"
      ],
      "execution_count": 0,
      "outputs": [
        {
          "output_type": "execute_result",
          "data": {
            "text/plain": [
              "([<matplotlib.patches.Wedge at 0x7ff6537ec748>,\n",
              "  <matplotlib.patches.Wedge at 0x7ff6537ecef0>,\n",
              "  <matplotlib.patches.Wedge at 0x7ff6537fa6a0>,\n",
              "  <matplotlib.patches.Wedge at 0x7ff6537fad30>,\n",
              "  <matplotlib.patches.Wedge at 0x7ff653807438>,\n",
              "  <matplotlib.patches.Wedge at 0x7ff653807b00>,\n",
              "  <matplotlib.patches.Wedge at 0x7ff653813208>,\n",
              "  <matplotlib.patches.Wedge at 0x7ff6538138d0>,\n",
              "  <matplotlib.patches.Wedge at 0x7ff653813f98>,\n",
              "  <matplotlib.patches.Wedge at 0x7ff6538206a0>,\n",
              "  <matplotlib.patches.Wedge at 0x7ff65383d550>,\n",
              "  <matplotlib.patches.Wedge at 0x7ff6537ad438>,\n",
              "  <matplotlib.patches.Wedge at 0x7ff6537adb00>,\n",
              "  <matplotlib.patches.Wedge at 0x7ff6537ba208>,\n",
              "  <matplotlib.patches.Wedge at 0x7ff6537ba8d0>,\n",
              "  <matplotlib.patches.Wedge at 0x7ff6537baf98>,\n",
              "  <matplotlib.patches.Wedge at 0x7ff6537c66a0>,\n",
              "  <matplotlib.patches.Wedge at 0x7ff6537c6d68>,\n",
              "  <matplotlib.patches.Wedge at 0x7ff6537d6470>,\n",
              "  <matplotlib.patches.Wedge at 0x7ff6537d6b38>,\n",
              "  <matplotlib.patches.Wedge at 0x7ff6537e1240>],\n",
              " [Text(-3.2708298423411417, 0.43780377162676887, 'Games'),\n",
              "  Text(3.2133277099511375, -0.7513488061214842, 'Entertainment'),\n",
              "  Text(3.2406597206870607, -0.6229964483979527, 'Finance'),\n",
              "  Text(3.2492424266577244, -0.5765619245210577, 'Sports'),\n",
              "  Text(3.25852773760604, -0.5215333002331317, 'Reference'),\n",
              "  Text(3.261757975455799, -0.5009340371251372, 'Medical'),\n",
              "  Text(3.279711166932864, -0.3653692125725369, 'Education'),\n",
              "  Text(3.294906865399747, -0.18327233381395408, 'Utilities'),\n",
              "  Text(3.297415018148083, -0.13059172290569826, 'Book'),\n",
              "  Text(3.29765201321755, -0.1244636481959346, 'Travel'),\n",
              "  Text(3.298007516509503, -0.11465784337245644, 'Productivity'),\n",
              "  Text(3.2985046159499385, -0.09933427684818344, 'Lifestyle'),\n",
              "  Text(3.2989305177289303, -0.08400856621042987, 'Business'),\n",
              "  Text(3.299246409257413, -0.07052042967869104, 'News'),\n",
              "  Text(3.2994415104700954, -0.06071012260586019, 'Social Networking'),\n",
              "  Text(3.2995882948467736, -0.0521256607647663, 'Health & Fitness'),\n",
              "  Text(3.2996621437530833, -0.047220091939871, 'Music'),\n",
              "  Text(3.2998846058872973, -0.027596880766457943, 'Stickers'),\n",
              "  Text(3.299991793746462, -0.007359429734271378, 'Food & Drink'),\n",
              "  Text(3.2999972074589974, -0.004293106430189179, 'Shopping'),\n",
              "  Text(3.2999994870052194, -0.001840044915628202, 'Navigation')],\n",
              " [Text(-1.7840890049133495, 0.2388020572509648, '95.8'),\n",
              "  Text(1.7527242054278929, -0.4098266215208095, '1.2'),\n",
              "  Text(1.7676325749202146, -0.33981624458070137, '0.1'),\n",
              "  Text(1.772314050904213, -0.3144883224660314, '0.3'),\n",
              "  Text(1.777378765966931, -0.28447270921807183, '0.2'),\n",
              "  Text(1.779140713884981, -0.273236747522802, '0.0'),\n",
              "  Text(1.7889333637815616, -0.1992922977668383, '1.3'),\n",
              "  Text(1.79722192658168, -0.09996672753488402, '0.5'),\n",
              "  Text(1.798590009898954, -0.07123184885765359, '0.1'),\n",
              "  Text(1.7987192799368452, -0.06788926265232795, '0.0'),\n",
              "  Text(1.7989131908233649, -0.06254064183952168, '0.1'),\n",
              "  Text(1.7991843359726933, -0.05418233282628186, '0.1'),\n",
              "  Text(1.7994166460339618, -0.0458228542965981, '0.1'),\n",
              "  Text(1.7995889505040432, -0.03846568891564965, '0.0'),\n",
              "  Text(1.7996953693473243, -0.03311461233046919, '0.1'),\n",
              "  Text(1.7997754335527851, -0.028432178598963433, '0.0'),\n",
              "  Text(1.7998157147744087, -0.025756413785384177, '0.0'),\n",
              "  Text(1.7999370577567073, -0.015052844054431603, '0.2'),\n",
              "  Text(1.799995523861706, -0.00401423440051166, '0.0'),\n",
              "  Text(1.7999984767958164, -0.0023416944164668246, '0.0'),\n",
              "  Text(1.7999997201846647, -0.0010036608630699282, '0.0')])"
            ]
          },
          "metadata": {
            "tags": []
          },
          "execution_count": 62
        },
        {
          "output_type": "display_data",
          "data": {
            "image/png": "[encoded data removed]",
            "text/plain": [
              "<Figure size 432x288 with 1 Axes>"
            ]
          },
          "metadata": {
            "tags": []
          }
        }
      ]
    },
    {
      "cell_type": "code",
      "metadata": {
        "id": "Bn4QyUgWjyJW",
        "colab_type": "code",
        "outputId": "2944e46f-d5ec-422e-ced3-11f05bfaff0f",
        "colab": {
          "base_uri": "https://localhost:8080/",
          "height": 284
        }
      },
      "source": [
        "plt.bar(df2[\"Primary Genre\"],df2[\"Average User Rating\"])"
      ],
      "execution_count": 0,
      "outputs": [
        {
          "output_type": "execute_result",
          "data": {
            "text/plain": [
              "<BarContainer object of 16905 artists>"
            ]
          },
          "metadata": {
            "tags": []
          },
          "execution_count": 34
        },
        {
          "output_type": "display_data",
          "data": {
            "image/png": "[encoded data removed]",
            "text/plain": [
              "<Figure size 432x288 with 1 Axes>"
            ]
          },
          "metadata": {
            "tags": []
          }
        }
      ]
    },
    {
      "cell_type": "markdown",
      "metadata": {
        "id": "tp-Fpy96HMry",
        "colab_type": "text"
      },
      "source": [
        "**FROM THE ABOVE ANALYSIS BETWEEN GENRE AND USER RATING\n",
        "WE FOUND THAT GAMES CATEGORY IN GENRE IS QUITE SIGNIFICANT**\n",
        "\n",
        "\n",
        "\n",
        "\n"
      ]
    },
    {
      "cell_type": "markdown",
      "metadata": {
        "id": "Hkev1NFZHr1Y",
        "colab_type": "text"
      },
      "source": [
        "******\n",
        "**IDENTIFYING TREND OF USER RATING BASED ON PRICING**\n",
        "******"
      ]
    },
    {
      "cell_type": "code",
      "metadata": {
        "id": "OjeCqtiW6t3u",
        "colab_type": "code",
        "outputId": "f4f2e3ce-1fd7-4ce9-8bed-b98c9ff81ded",
        "colab": {
          "base_uri": "https://localhost:8080/",
          "height": 92
        }
      },
      "source": [
        "print(df2[\"Average User Rating\"].mean())\n",
        "print(df2[\"Average User Rating\"].mode())\n",
        "df2[\"Average User Rating\"].median()"
      ],
      "execution_count": 56,
      "outputs": [
        {
          "output_type": "stream",
          "text": [
            "4.304643596569062\n",
            "0    4.5\n",
            "dtype: float64\n"
          ],
          "name": "stdout"
        },
        {
          "output_type": "execute_result",
          "data": {
            "text/plain": [
              "4.5"
            ]
          },
          "metadata": {
            "tags": []
          },
          "execution_count": 56
        }
      ]
    },
    {
      "cell_type": "code",
      "metadata": {
        "id": "s2XOg8V59AW6",
        "colab_type": "code",
        "colab": {
          "base_uri": "https://localhost:8080/",
          "height": 641
        },
        "outputId": "a682312e-9732-434f-9d5f-d27a98bbe8cb"
      },
      "source": [
        "## OBTAINING USER RATING \n",
        "## OF DIFFERENT GENRE\n",
        "## OF APPS\n",
        "\n",
        "s={}\n",
        "s1=set(df2[\"Primary Genre\"])\n",
        "l=list(s1)\n",
        "start=0\n",
        "\n",
        "for jj in range(len(df2[\"Primary Genre\"])):\n",
        "  ll=list(df2[\"Primary Genre\"])\n",
        "\n",
        "  count=0\n",
        "  p=0\n",
        "  for i in df2[\"Average User Rating\"]:\n",
        "    for j in ll:\n",
        "      if j==l[start]:\n",
        "        count+=i\n",
        "        p+=1\n",
        "        ll.pop(0)\n",
        "        break\n",
        "  print(l[start],\" \",count/p)\n",
        "  start+=1\n",
        "s1\n"
      ],
      "execution_count": 51,
      "outputs": [
        {
          "output_type": "stream",
          "text": [
            "Utilities   4.304144186873777\n",
            "Health & Fitness   4.2514666666666665\n",
            "Sports   4.304079696394687\n",
            "Navigation   4.289570713721359\n",
            "Book   4.283199334627114\n",
            "Medical   3.3675213675213675\n",
            "Food & Drink   4.286468491492367\n",
            "Social Networking   4.3032459797498515\n",
            "Business   4.302614261785116\n",
            "News   4.294629898403484\n",
            "Shopping   4.25765742642026\n",
            "Travel   3.6588447653429603\n",
            "Lifestyle   4.299688016149752\n",
            "Reference   4.290027537372148\n",
            "Education   4.3043941726874335\n",
            "Entertainment   4.304527966854099\n",
            "Finance   4.29341260253068\n",
            "Music   4.265837749694252\n",
            "Stickers   4.303058304518898\n",
            "Games   4.304643596569062\n",
            "Productivity   4.299799037817429\n"
          ],
          "name": "stdout"
        },
        {
          "output_type": "error",
          "ename": "IndexError",
          "evalue": "ignored",
          "traceback": [
            "\u001b[0;31m---------------------------------------------------------------------------\u001b[0m",
            "\u001b[0;31mIndexError\u001b[0m                                Traceback (most recent call last)",
            "\u001b[0;32m<ipython-input-51-f666fde3bb80>\u001b[0m in \u001b[0;36m<module>\u001b[0;34m()\u001b[0m\n\u001b[1;32m     11\u001b[0m   \u001b[0;32mfor\u001b[0m \u001b[0mi\u001b[0m \u001b[0;32min\u001b[0m \u001b[0mdf2\u001b[0m\u001b[0;34m[\u001b[0m\u001b[0;34m\"Average User Rating\"\u001b[0m\u001b[0;34m]\u001b[0m\u001b[0;34m:\u001b[0m\u001b[0;34m\u001b[0m\u001b[0;34m\u001b[0m\u001b[0m\n\u001b[1;32m     12\u001b[0m     \u001b[0;32mfor\u001b[0m \u001b[0mj\u001b[0m \u001b[0;32min\u001b[0m \u001b[0mll\u001b[0m\u001b[0;34m:\u001b[0m\u001b[0;34m\u001b[0m\u001b[0;34m\u001b[0m\u001b[0m\n\u001b[0;32m---> 13\u001b[0;31m       \u001b[0;32mif\u001b[0m \u001b[0mj\u001b[0m\u001b[0;34m==\u001b[0m\u001b[0ml\u001b[0m\u001b[0;34m[\u001b[0m\u001b[0mstart\u001b[0m\u001b[0;34m]\u001b[0m\u001b[0;34m:\u001b[0m\u001b[0;34m\u001b[0m\u001b[0;34m\u001b[0m\u001b[0m\n\u001b[0m\u001b[1;32m     14\u001b[0m         \u001b[0mcount\u001b[0m\u001b[0;34m+=\u001b[0m\u001b[0mi\u001b[0m\u001b[0;34m\u001b[0m\u001b[0;34m\u001b[0m\u001b[0m\n\u001b[1;32m     15\u001b[0m         \u001b[0mp\u001b[0m\u001b[0;34m+=\u001b[0m\u001b[0;36m1\u001b[0m\u001b[0;34m\u001b[0m\u001b[0;34m\u001b[0m\u001b[0m\n",
            "\u001b[0;31mIndexError\u001b[0m: list index out of range"
          ]
        }
      ]
    },
    {
      "cell_type": "code",
      "metadata": {
        "id": "lchD0sTJz9La",
        "colab_type": "code",
        "colab": {
          "base_uri": "https://localhost:8080/",
          "height": 164
        },
        "outputId": "e68223b8-67c0-4f9b-8955-56f840f0e00e"
      },
      "source": [
        "df2.head(2)"
      ],
      "execution_count": 7,
      "outputs": [
        {
          "output_type": "execute_result",
          "data": {
            "text/html": [
              "<div>\n",
              "<style scoped>\n",
              "    .dataframe tbody tr th:only-of-type {\n",
              "        vertical-align: middle;\n",
              "    }\n",
              "\n",
              "    .dataframe tbody tr th {\n",
              "        vertical-align: top;\n",
              "    }\n",
              "\n",
              "    .dataframe thead th {\n",
              "        text-align: right;\n",
              "    }\n",
              "</style>\n",
              "<table border=\"1\" class=\"dataframe\">\n",
              "  <thead>\n",
              "    <tr style=\"text-align: right;\">\n",
              "      <th></th>\n",
              "      <th>Name</th>\n",
              "      <th>User Rating Count</th>\n",
              "      <th>Price</th>\n",
              "      <th>Description</th>\n",
              "      <th>Developer</th>\n",
              "      <th>Age Rating</th>\n",
              "      <th>Languages</th>\n",
              "      <th>Size</th>\n",
              "      <th>Primary Genre</th>\n",
              "      <th>Genres</th>\n",
              "      <th>Original Release Date</th>\n",
              "      <th>Current Version Release Date</th>\n",
              "      <th>Average User Rating</th>\n",
              "    </tr>\n",
              "  </thead>\n",
              "  <tbody>\n",
              "    <tr>\n",
              "      <th>0</th>\n",
              "      <td>Sudoku</td>\n",
              "      <td>3553.0</td>\n",
              "      <td>2.99</td>\n",
              "      <td>Join over 21,000,000 of our fans and download ...</td>\n",
              "      <td>Mighty Mighty Good Games</td>\n",
              "      <td>4+</td>\n",
              "      <td>DA, NL, EN, FI, FR, DE, IT, JA, KO, NB, PL, PT...</td>\n",
              "      <td>15853568.0</td>\n",
              "      <td>Games</td>\n",
              "      <td>Games, Strategy, Puzzle</td>\n",
              "      <td>2008-07-11</td>\n",
              "      <td>2017-05-30</td>\n",
              "      <td>4.0</td>\n",
              "    </tr>\n",
              "    <tr>\n",
              "      <th>1</th>\n",
              "      <td>Reversi</td>\n",
              "      <td>284.0</td>\n",
              "      <td>1.99</td>\n",
              "      <td>The classic game of Reversi, also known as Oth...</td>\n",
              "      <td>Kiss The Machine</td>\n",
              "      <td>4+</td>\n",
              "      <td>EN</td>\n",
              "      <td>12328960.0</td>\n",
              "      <td>Games</td>\n",
              "      <td>Games, Strategy, Board</td>\n",
              "      <td>2008-07-11</td>\n",
              "      <td>2018-05-17</td>\n",
              "      <td>3.5</td>\n",
              "    </tr>\n",
              "  </tbody>\n",
              "</table>\n",
              "</div>"
            ],
            "text/plain": [
              "      Name  User Rating Count  ...  Current Version Release Date Average User Rating\n",
              "0   Sudoku             3553.0  ...                    2017-05-30                 4.0\n",
              "1  Reversi              284.0  ...                    2018-05-17                 3.5\n",
              "\n",
              "[2 rows x 13 columns]"
            ]
          },
          "metadata": {
            "tags": []
          },
          "execution_count": 7
        }
      ]
    },
    {
      "cell_type": "code",
      "metadata": {
        "id": "D_V8eg260UtR",
        "colab_type": "code",
        "colab": {
          "base_uri": "https://localhost:8080/",
          "height": 284
        },
        "outputId": "f31fe5d6-d009-41a4-e4f9-1852704f2d42"
      },
      "source": [
        "\n",
        "\n",
        "plt.scatter(df2[\"Price\"],df2[\"Average User Rating\"])"
      ],
      "execution_count": 46,
      "outputs": [
        {
          "output_type": "execute_result",
          "data": {
            "text/plain": [
              "<matplotlib.collections.PathCollection at 0x7f4cd2f44eb8>"
            ]
          },
          "metadata": {
            "tags": []
          },
          "execution_count": 46
        },
        {
          "output_type": "display_data",
          "data": {
            "image/png": "[encoded data removed]",
            "text/plain": [
              "<Figure size 432x288 with 1 Axes>"
            ]
          },
          "metadata": {
            "tags": []
          }
        }
      ]
    },
    {
      "cell_type": "code",
      "metadata": {
        "id": "flcCSrZ_0bOj",
        "colab_type": "code",
        "colab": {
          "base_uri": "https://localhost:8080/",
          "height": 414
        },
        "outputId": "6be0aca9-2319-4207-ce5c-e5a75f9a5b82"
      },
      "source": [
        "plt.boxplot(df2[\"Price\"])"
      ],
      "execution_count": 14,
      "outputs": [
        {
          "output_type": "execute_result",
          "data": {
            "text/plain": [
              "{'boxes': [<matplotlib.lines.Line2D at 0x7f4cd2fc1160>],\n",
              " 'caps': [<matplotlib.lines.Line2D at 0x7f4cd2fc1b70>,\n",
              "  <matplotlib.lines.Line2D at 0x7f4cd2fc1ef0>],\n",
              " 'fliers': [<matplotlib.lines.Line2D at 0x7f4cd2fcb630>],\n",
              " 'means': [],\n",
              " 'medians': [<matplotlib.lines.Line2D at 0x7f4cd2fcb2b0>],\n",
              " 'whiskers': [<matplotlib.lines.Line2D at 0x7f4cd2fc1470>,\n",
              "  <matplotlib.lines.Line2D at 0x7f4cd2fc17f0>]}"
            ]
          },
          "metadata": {
            "tags": []
          },
          "execution_count": 14
        },
        {
          "output_type": "display_data",
          "data": {
            "image/png": "[encoded data removed]",
            "text/plain": [
              "<Figure size 432x288 with 1 Axes>"
            ]
          },
          "metadata": {
            "tags": []
          }
        }
      ]
    },
    {
      "cell_type": "code",
      "metadata": {
        "id": "SgtEt3rw0-tk",
        "colab_type": "code",
        "colab": {
          "base_uri": "https://localhost:8080/",
          "height": 36
        },
        "outputId": "db4c50cf-bd16-4b67-9647-98d527bf48c4"
      },
      "source": [
        "len(df2[df2[\"Price\"]>100])"
      ],
      "execution_count": 22,
      "outputs": [
        {
          "output_type": "execute_result",
          "data": {
            "text/plain": [
              "31"
            ]
          },
          "metadata": {
            "tags": []
          },
          "execution_count": 22
        }
      ]
    },
    {
      "cell_type": "code",
      "metadata": {
        "id": "PMRAxlX91qbo",
        "colab_type": "code",
        "colab": {
          "base_uri": "https://localhost:8080/",
          "height": 36
        },
        "outputId": "e0bcc4c3-f5e5-4aae-cb54-8e65c63c8d24"
      },
      "source": [
        "len(df2[df2[\"Price\"]>50])"
      ],
      "execution_count": 23,
      "outputs": [
        {
          "output_type": "execute_result",
          "data": {
            "text/plain": [
              "33"
            ]
          },
          "metadata": {
            "tags": []
          },
          "execution_count": 23
        }
      ]
    },
    {
      "cell_type": "code",
      "metadata": {
        "id": "nKgyywlg158e",
        "colab_type": "code",
        "colab": {
          "base_uri": "https://localhost:8080/",
          "height": 36
        },
        "outputId": "23d16893-1172-4402-cb11-8195ca382f68"
      },
      "source": [
        "len(df2[df2[\"Price\"]==0])"
      ],
      "execution_count": 39,
      "outputs": [
        {
          "output_type": "execute_result",
          "data": {
            "text/plain": [
              "14149"
            ]
          },
          "metadata": {
            "tags": []
          },
          "execution_count": 39
        }
      ]
    },
    {
      "cell_type": "code",
      "metadata": {
        "id": "DVDZbbZJ4_BL",
        "colab_type": "code",
        "colab": {
          "base_uri": "https://localhost:8080/",
          "height": 54
        },
        "outputId": "42cd343d-1012-43de-8985-33c1cacacb38"
      },
      "source": [
        "df2[\"Price\"].mode()"
      ],
      "execution_count": 37,
      "outputs": [
        {
          "output_type": "execute_result",
          "data": {
            "text/plain": [
              "0    0.0\n",
              "dtype: float64"
            ]
          },
          "metadata": {
            "tags": []
          },
          "execution_count": 37
        }
      ]
    },
    {
      "cell_type": "markdown",
      "metadata": {
        "id": "W1-f3UHabhzv",
        "colab_type": "text"
      },
      "source": [
        "**INFERENCES** *"
      ]
    },
    {
      "cell_type": "markdown",
      "metadata": {
        "id": "OksfdWhlctmU",
        "colab_type": "text"
      },
      "source": [
        "**FROM THE ABOVE DATASETS OF APP STORE RATING WE OBSERVE THAT :--**\n",
        "1. THE GENRE \"GAMES\" IS MOST USED APP WITH USED PERCENTAGE OF 95% .\n",
        "2. THE GENRES HAVING HIGHER \"USER RATING\" ARE-\n",
        " UTILITIES , SPORTS , GAMES , ENTERTAINMENT , EDUCATION etc. AND LESS RATED GENRE OF GAMES ARE MEDICAL AND TRAVEL.\n",
        "3.THE APPS WHICH ARE FREE(NO COST) ARE WIDELY USED .\n",
        "4.APPS WHICH ARE COSTLY(ABOVE 25) HAVE GOOD \"AVERAGE USER RATING\".\n",
        " \n",
        "\n",
        " \n",
        "\n",
        "\n",
        "\n",
        "\n"
      ]
    },
    {
      "cell_type": "code",
      "metadata": {
        "id": "wpwvSACUBS_z",
        "colab_type": "code",
        "colab": {}
      },
      "source": [
        ""
      ],
      "execution_count": 0,
      "outputs": []
    }
  ]
}